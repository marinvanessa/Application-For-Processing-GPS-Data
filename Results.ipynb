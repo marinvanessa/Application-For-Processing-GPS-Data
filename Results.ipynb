{
 "cells": [
  {
   "cell_type": "code",
   "execution_count": null,
   "id": "eaa76c22-efcd-4325-b98c-1af0bf0c031a",
   "metadata": {},
   "outputs": [],
   "source": [
    "# Show result plots\n",
    "\n",
    "import seaborn as sns\n",
    "import matplotlib.pyplot as plt\n",
    "import numpy as np\n",
    "import pandas as pd\n",
    "\n",
    "columns = ['latitude', 'longitude', '0', 'altitude', 'num_days', 'date', 'time', 'cluster']\n",
    "result_directory = \"C:\\\\Users\\\\mvane\\\\OneDrive\\\\Desktop\\\\IBD\\\\Geolife Trajectories 1.3\\\\ClusteringResults_1\"\n",
    "\n",
    "num_clusters = 2\n",
    "for file_path in os.listdir(result_directory):\n",
    "    result_file_path = os.path.join(result_directory, file_path)\n",
    "    df = pd.read_csv(result_file_path, skiprows=1, header=None, names=columns, delimiter=',')\n",
    "\n",
    "    fig, (ax1) = plt.subplots(figsize=(15, 6))\n",
    "\n",
    "    for cluster_label in range(num_clusters):\n",
    "        cluster_data = df[df['cluster'] == cluster_label]\n",
    "        print(len(cluster_data))\n",
    "        ax1.scatter(cluster_data['longitude'], cluster_data['latitude'], marker='o')\n",
    "    ax1.set_title('Scatter Plot al Clusterelor')\n",
    "    ax1.set_xlabel('Longitude')\n",
    "    ax1.set_ylabel('Latitude')\n",
    "\n",
    "    # Show the plot\n",
    "    plt.show()\n"
   ]
  },
  {
   "cell_type": "code",
   "execution_count": null,
   "id": "946af00f-d5bc-4962-b1c8-d28b0dbe4689",
   "metadata": {},
   "outputs": [],
   "source": [
    "# Extract statistics\n",
    "\n",
    "import seaborn as sns\n",
    "import matplotlib.pyplot as plt\n",
    "import os\n",
    "from sklearn.metrics import silhouette_score\n",
    "import numpy as np\n",
    "import pandas as pd\n",
    "\n",
    "\n",
    "columns = ['latitude', 'longitude', '0', 'altitude', 'num_days', 'date', 'time', 'cluster']\n",
    "result_directory = \"C:\\\\Users\\\\mvane\\\\OneDrive\\\\Desktop\\\\IBD\\\\Geolife Trajectories 1.3\\\\ClusteringResults_1\"\n",
    "\n",
    "num_clusters = 2\n",
    "# Iterate again for plotting\n",
    "for file_path in os.listdir(result_directory):\n",
    "    result_file_path = os.path.join(result_directory, file_path)\n",
    "    df = pd.read_csv(result_file_path, skiprows=1, header=None, names=columns, delimiter=',')\n",
    "   \n",
    "    for cluster_label in range(num_clusters):\n",
    "        cluster_data = df[df['cluster'] == cluster_label]\n",
    "    \n",
    "        # Statistici\n",
    "        print(f\"Cluster {cluster_label} - Spatial Statistics:\")\n",
    "        print(cluster_data[['latitude', 'longitude']].describe())\n",
    "    \n",
    "        # Statistici\n",
    "        print(f\"Cluster {cluster_label} - Altitude Statistics:\")\n",
    "        print(cluster_data['altitude'].describe())\n",
    "    \n",
    "        centroid = cluster_data[['latitude', 'longitude']].mean()\n",
    "        print(f\"Cluster {cluster_label} - Centroid:\")\n",
    "        print(centroid)\n",
    "    \n",
    "        num_points = len(cluster_data)\n",
    "        print(f\"Cluster {cluster_label} - Number of Points:\")\n",
    "        print(num_points)\n",
    "    "
   ]
  }
 ],
 "metadata": {
  "kernelspec": {
   "display_name": "Python 3 (ipykernel)",
   "language": "python",
   "name": "python3"
  },
  "language_info": {
   "codemirror_mode": {
    "name": "ipython",
    "version": 3
   },
   "file_extension": ".py",
   "mimetype": "text/x-python",
   "name": "python",
   "nbconvert_exporter": "python",
   "pygments_lexer": "ipython3",
   "version": "3.10.0"
  }
 },
 "nbformat": 4,
 "nbformat_minor": 5
}
